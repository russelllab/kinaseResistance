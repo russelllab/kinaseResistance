{
 "cells": [
  {
   "cell_type": "code",
   "execution_count": 1,
   "metadata": {},
   "outputs": [],
   "source": [
    "import gzip"
   ]
  },
  {
   "cell_type": "code",
   "execution_count": 8,
   "metadata": {},
   "outputs": [],
   "source": [
    "# Get all mutations\n",
    "class Mutaton:\n",
    "    def __init__(self, acc, pos, wtAA, mutAA, mut_type):\n",
    "        self.acc = acc\n",
    "        self.pos = pos\n",
    "        self.wtAA = wtAA\n",
    "        self.mutAA = mutAA\n",
    "        self.mut_type = mut_type\n",
    "        self.prediction = None\n",
    "        self.prob = None\n",
    "        self.predictions = {}\n",
    "    \n",
    "    def show(self):\n",
    "        print (self.acc, self.pos, self.wtAA, self.mutAA, self.mut_type, self.prediction, self.prob)\n"
   ]
  },
  {
   "cell_type": "code",
   "execution_count": 9,
   "metadata": {},
   "outputs": [],
   "source": [
    "dic_mutations = {}\n",
    "for line in open('../ML/final_ADRN.txt'):\n",
    "    acc = line.split()[0].split('/')[0]\n",
    "    mutation = line.split()[0].split('/')[1]\n",
    "    name = line.split()[0]\n",
    "    pos = mutation[1:-1]\n",
    "    wtAA = mutation[0]\n",
    "    mutAA = mutation[-1]\n",
    "    mut_type = line.split()[1].strip()\n",
    "    dic_mutations[name] = Mutaton(acc, pos, wtAA, mutAA, mut_type)\n"
   ]
  },
  {
   "cell_type": "code",
   "execution_count": 11,
   "metadata": {},
   "outputs": [
    {
     "name": "stdout",
     "output_type": "stream",
     "text": [
      "{'polyphen2': {'prediction': 'probably damaging', 'prob': '1'}}\n"
     ]
    }
   ],
   "source": [
    "# get all the predictions from the PolyPhen2 output file\n",
    "predictor = 'polyphen2'\n",
    "with gzip.open('polyphen_output_new_test_set.tsv.gz', 'rt') as f:\n",
    "    for line in f:\n",
    "        if line.startswith('#'):\n",
    "            continue\n",
    "        else:\n",
    "            line = line.strip().split('\\t')\n",
    "            acc = line[0].strip()\n",
    "            pos = line[1].strip()\n",
    "            wtAA = line[2].strip()\n",
    "            mutAA = line[3].strip()\n",
    "            name = acc + '/' + wtAA+ pos + mutAA\n",
    "            prediction = line[9].strip()\n",
    "            prob = line[10].strip()\n",
    "            # print (name, acc, pos, wtAA, mutAA, prediction)\n",
    "            if name in dic_mutations:\n",
    "                if predictor not in dic_mutations[name].predictions:\n",
    "                    dic_mutations[name].predictions[predictor] = {}\n",
    "                dic_mutations[name].predictions[predictor]['prediction'] = prediction\n",
    "                dic_mutations[name].predictions[predictor]['prob'] = prob\n",
    "            else:\n",
    "                print (f'{name} not found in the DB')\n",
    "\n",
    "print (dic_mutations['O60674/H608Y'].predictions)"
   ]
  },
  {
   "cell_type": "code",
   "execution_count": null,
   "metadata": {},
   "outputs": [],
   "source": [
    "predictor = 'pmut'\n",
    "with gzip.open('pmut_output.tsv.gz', 'rt') as f:\n",
    "    for line in f:\n",
    "        acc = line.split()[0]\n",
    "        mutation = line.split()[1]\n",
    "        pos = mutation[1:-1]\n",
    "        wtAA = mutation[0]\n",
    "        mutAA = mutation[-1]\n",
    "        name = acc + '/' + wtAA+ pos + mutAA\n",
    "        prediction = 'True' if  'True' in line.split()[2] else 'False'\n",
    "        prob = line.split()[2].split('(')[1].split(')')[0]\n",
    "        # print (name, acc, pos, wtAA, mutAA, prediction)\n",
    "        if name in dic_mutations:\n",
    "            if predictor not in dic_mutations[name].predictions:\n",
    "                dic_mutations[name].predictions[predictor] = {}\n",
    "            dic_mutations[name].predictions[predictor]['prediction'] = prediction\n",
    "            dic_mutations[name].predictions[predictor]['prob'] = prob\n",
    "        else:\n",
    "            print (f'{name} not found in the DB')\n",
    "\n",
    "print (dic_mutations['O60674/H608Y'].predictions)"
   ]
  },
  {
   "cell_type": "code",
   "execution_count": null,
   "metadata": {},
   "outputs": [],
   "source": [
    "\n",
    "MUT_TYPES = {\n",
    "            'A': ['activating', 'increase'],\n",
    "            'D': ['decrease', 'loss'],\n",
    "            'R': ['resistance'],\n",
    "            'T': ['activatingresistance'],\n",
    "            'N': ['neutral']\n",
    "            }\n",
    "text = ''\n",
    "for mut_type in MUT_TYPES:\n",
    "    names = []\n",
    "    y_pred = []; y_true = []; y_prob=[]; y_act_deact_or_neutral = []\n",
    "    for mutation in dic_mutations:\n",
    "        if dic_mutations[mutation].mut_type in ['activatingresistance', 'increaseresistance']:\n",
    "            print (mutation, dic_mutations[mutation].mut_type, dic_mutations[mutation].prob)\n",
    "        if dic_mutations[mutation].prediction is None: continue\n",
    "        kinase_mut_type = dic_mutations[mutation].mut_type\n",
    "        if kinase_mut_type not in MUT_TYPES[mut_type]: continue\n",
    "        # print (mutation, dic_mutations[mutation].mut_type, dic_mutations[mutation].prediction)\n",
    "        if 'damaging' in dic_mutations[mutation].prediction:\n",
    "            y_pred.append(1)\n",
    "        else:\n",
    "            y_pred.append(0)\n",
    "        y_prob.append(float(dic_mutations[mutation].prob))\n",
    "        if kinase_mut_type in MUT_TYPES['N']:\n",
    "            y_act_deact_or_neutral.append(0)\n",
    "        else:\n",
    "            y_act_deact_or_neutral.append(1)\n",
    "        if kinase_mut_type in MUT_TYPES[mut_type]:\n",
    "            y_true.append(1)\n",
    "        else:\n",
    "            y_true.append(0)\n",
    "        names.append(mutation)\n",
    "    # print (f'MCC: {matthews_corrcoef(y_true, y_pred)}')\n",
    "    print (mut_type, len(y_pred), f'REC: {recall_score(y_true, y_pred)}')\n",
    "    # print (f'AUC: {roc_auc_score(y_true, y_pred)}')\n",
    "    if mut_type == 'T':\n",
    "        print (y_true)\n",
    "        print (y_pred)\n",
    "\n",
    "    for name, y_p, y_t in zip(names, y_prob, y_act_deact_or_neutral):\n",
    "        # print (name, y_p, y_t)\n",
    "        if 'V600E' in name: dic_mutations[name].show()\n",
    "        text += str(name) + '\\t' + str(dic_mutations[name].mut_type) + '\\t' + str(y_p) + '\\t' + str(y_t) + '\\n'\n"
   ]
  }
 ],
 "metadata": {
  "kernelspec": {
   "display_name": "activark",
   "language": "python",
   "name": "python3"
  },
  "language_info": {
   "codemirror_mode": {
    "name": "ipython",
    "version": 3
   },
   "file_extension": ".py",
   "mimetype": "text/x-python",
   "name": "python",
   "nbconvert_exporter": "python",
   "pygments_lexer": "ipython3",
   "version": "3.10.11"
  }
 },
 "nbformat": 4,
 "nbformat_minor": 2
}
