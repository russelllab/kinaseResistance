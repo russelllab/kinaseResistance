{
 "cells": [
  {
   "cell_type": "code",
   "execution_count": 94,
   "id": "d376bdbb",
   "metadata": {},
   "outputs": [],
   "source": [
    "## Develop VAE for kinase resistance predtictions\n",
    "\n",
    "import numpy as np\n",
    "import scipy as sp\n",
    "import os, sys\n",
    "import seaborn as sns\n",
    "import pandas as pd\n",
    "import tensorflow as tf\n",
    "from tensorflow import keras\n",
    "from tensorflow.keras import layers\n",
    "import matplotlib.pyplot as plt\n",
    "\n",
    "\n",
    "# a class to hold kinase information\n",
    "class kinase:\n",
    "    def __init__(self, acc, gene):\n",
    "        self.acc = acc\n",
    "        self.gene = gene\n",
    "        self.fasta = ''\n",
    "        self.domains = {}\n",
    "        self.hmmsearch = []\n"
   ]
  },
  {
   "cell_type": "code",
   "execution_count": 95,
   "id": "ee068bff",
   "metadata": {},
   "outputs": [],
   "source": [
    "kinases = {}\n",
    "def loadFasta():\n",
    "    for line in open('humanKinases.fasta', 'r'):\n",
    "        #print (line)\n",
    "        if line[0] == '>':\n",
    "            acc = line.split('|')[1].replace('\\n', '')\n",
    "            gene = line.split('GN=')[1].split()[0]\n",
    "            kinases[acc] = kinase(acc, gene)\n",
    "        else:\n",
    "            kinases[acc].fasta += line.replace('\\n', '')\n",
    "            "
   ]
  },
  {
   "cell_type": "code",
   "execution_count": 96,
   "id": "c23b7073",
   "metadata": {},
   "outputs": [
    {
     "name": "stdout",
     "output_type": "stream",
     "text": [
      "MRPSGTAGAALLALLAALCPASRALEEKKVCQGTSNKLTQLGTFEDHFLSLQRMFNNCEVVLGNLEITYVQRNYDLSFLKTIQEVAGYVLIALNTVERIPLENLQIIRGNMYYENSYALAVLSNYDANKTGLKELPMRNLQEILHGAVRFSNNPALCNVESIQWRDIVSSDFLSNMSMDFQNHLGSCQKCDPSCPNGSCWGAGEENCQKLTKIICAQQCSGRCRGKSPSDCCHNQCAAGCTGPRESDCLVCRKFRDEATCKDTCPPLMLYNPTTYQMDVNPEGKYSFGATCVKKCPRNYVVTDHGSCVRACGADSYEMEEDGVRKCKKCEGPCRKVCNGIGIGEFKDSLSINATNIKHFKNCTSISGDLHILPVAFRGDSFTHTPPLDPQELDILKTVKEITGFLLIQAWPENRTDLHAFENLEIIRGRTKQHGQFSLAVVSLNITSLGLRSLKEISDGDVIISGNKNLCYANTINWKKLFGTSGQKTKIISNRGENSCKATGQVCHALCSPEGCWGPEPRDCVSCRNVSRGRECVDKCNLLEGEPREFVENSECIQCHPECLPQAMNITCTGRGPDNCIQCAHYIDGPHCVKTCPAGVMGENNTLVWKYADAGHVCHLCHPNCTYGCTGPGLEGCPTNGPKIPSIATGMVGALLLLLVVALGIGLFMRRRHIVRKRTLRRLLQERELVEPLTPSGEAPNQALLRILKETEFKKIKVLGSGAFGTVYKGLWIPEGEKVKIPVAIKELREATSPKANKEILDEAYVMASVDNPHVCRLLGICLTSTVQLITQLMPFGCLLDYVREHKDNIGSQYLLNWCVQIAKGMNYLEDRRLVHRDLAARNVLVKTPQHVKITDFGLAKLLGAEEKEYHAEGGKVPIKWMALESILHRIYTHQSDVWSYGVTVWELMTFGSKPYDGIPASEISSILEKGERLPQPPICTIDVYMIMVKCWMIDADSRPKFRELIIEFSKMARDPQRYLVIQGDERMHLPSPTDSNFYRALMDEEDMDDVVDADEYLIPQQGFFSSPSTSRTPLLSSLSATSNNSTVACIDRNGLQSCPIKEDSFLQRYSSDPTGALTEDSIDDTFLPVPEYINQSVPKRPAGSVQNPVYHNQPLNPAPSRDPHYQDPHSTAVGNPEYLNTVQPTCVNSTFDSPAHWAQKGSHQISLDNPDYQQDFFPKEAKPNGIFKGSTAENAEYLRVAPQSSEFIGA\n"
     ]
    }
   ],
   "source": [
    "loadFasta()\n",
    "print (kinases['P00533'].fasta)"
   ]
  },
  {
   "cell_type": "code",
   "execution_count": 97,
   "id": "bdfc7547",
   "metadata": {},
   "outputs": [],
   "source": [
    "def hmmsearch():\n",
    "    '''\n",
    "    Function to do an hmmsearch of all kinases against Pkinase.hmm\n",
    "    and store the mappings. Note that some kinases may have more than\n",
    "    one Pkinase domain.\n",
    "    '''\n",
    "    #os.system('hmmsearch -o out.txt ../pfam/Pkinase.hmm humanKinases.fasta')\n",
    "    flag = 0\n",
    "    for line in open('out.txt', 'r'):\n",
    "        if line[:2] == '>>':\n",
    "            acc = line.split('|')[1]\n",
    "            flag = 1\n",
    "            #print (acc)\n",
    "        if flag == 1 and line.split()!= []:\n",
    "            if '== domain' in line:\n",
    "                domainNum = line.split('domain')[1].split()[0]\n",
    "                kinases[acc].domains[domainNum] = {}\n",
    "            elif line.split()[0] == 'Pkinase':\n",
    "                hmmStart = int(line.split()[1])\n",
    "                hmmSeq = line.split()[2]\n",
    "                hmmEnd = int(line.split()[3])\n",
    "            elif acc in line.split()[0]:\n",
    "                kinaseStart = int(line.split()[1])\n",
    "                kinaseSeq = line.split()[2]\n",
    "                kinaseEnd = int(line.split()[3])\n",
    "                for hmmChar, kinaseChar in zip(hmmSeq, kinaseSeq):\n",
    "                    if hmmChar not in ['.', '-'] and kinaseChar not in ['.', '-']:\n",
    "                        #kinases[acc].domains[domainNum][kinaseStart] = hmmStart\n",
    "                        kinases[acc].domains[domainNum][hmmStart] = kinaseStart\n",
    "                        hmmStart += 1\n",
    "                        kinaseStart += 1\n",
    "                    elif hmmChar in ['.', '-']:\n",
    "                        kinaseStart += 1\n",
    "                    elif kinaseChar in ['.', '-']:\n",
    "                        hmmStart += 1\n",
    "        #print (kinases[acc].domains)\n",
    "        #sys.exit()\n",
    "    #print (kinases['Q9BUB5'].domains)\n",
    "hmmsearch()"
   ]
  },
  {
   "cell_type": "code",
   "execution_count": 98,
   "id": "826f29fe",
   "metadata": {},
   "outputs": [
    {
     "name": "stdout",
     "output_type": "stream",
     "text": [
      "[254, 248, 89, 155, 256, 256, 251, 251, 253, 254, 255, 256, 253, 256, 256, 256, 250, 237, 248, 258, 250, 246, 250, 256, 254, 20, 22, 255, 250, 248, 255, 253, 256, 254, 250, 243, 251, 231, 244, 244, 129, 130, 251, 251, 255, 244, 249, 249, 253, 132, 125, 251, 249, 244, 203, 251, 249, 249, 242, 127, 247, 247, 252, 73, 173, 236, 243, 242, 244, 240, 254, 256, 241, 249, 243, 248, 254, 247, 245, 250, 241, 255, 94, 245, 254, 235, 250, 255, 249, 249, 258, 248, 247, 236, 252, 254, 235, 249, 254, 248, 251, 256, 253, 255, 252, 235, 246, 255, 246, 255, 245, 238, 192, 249, 235, 250, 248, 242, 249, 252, 227, 244, 248, 252, 29, 144, 89, 49, 255, 245, 248, 240, 249, 248, 241, 91, 155, 241, 245, 243, 244, 245, 237, 244, 238, 250, 254, 254, 244, 251, 253, 251, 250, 250, 250, 237, 244, 237, 238, 253, 245, 251, 251, 253, 251, 251, 250, 248, 250, 239, 251, 250, 242, 249, 252, 101, 251, 253, 253, 251, 251, 235, 242, 238, 240, 251, 249, 236, 241, 242, 244, 243, 235, 245, 245, 240, 239, 74, 157, 247, 255, 130, 253, 251, 253, 253, 247, 247, 255, 251, 34, 252, 237, 250, 239, 149, 254, 246, 250, 247, 249, 250, 259, 203, 255, 254, 105, 251, 231, 234, 252, 252, 247, 250, 238, 86, 249, 244, 244, 240, 246, 252, 89, 159, 258, 233, 244, 240, 254, 250, 251, 247, 250, 252, 238, 244, 234, 246, 252, 251, 251, 251, 187, 156, 97, 254, 254, 254, 242, 237, 252, 250, 243, 243, 245, 245, 256, 250, 251, 247, 243, 249, 134, 250, 250, 250, 250, 250, 256, 257, 67, 178, 204, 69, 182, 162, 248, 250, 251, 251, 251, 253, 249, 251, 244, 252, 239, 255, 254, 197, 238, 223, 245, 250, 241, 253, 249, 203, 247, 88, 163, 249, 246, 201, 253, 255, 250, 245, 260, 204, 251, 253, 44, 249, 251, 243, 258, 112, 145, 247, 200, 254, 246, 245, 252, 90, 160, 242, 246, 250, 152, 255, 238, 244, 243, 254, 247, 244, 242, 254, 251, 252, 70, 250, 244, 205, 251, 245, 251, 253, 252, 248, 251, 245, 243, 253, 188, 199, 250, 252, 248, 251, 250, 243, 247, 242, 249, 122, 32, 247, 242, 250, 178, 251, 138, 245, 243, 257, 235, 248, 257, 243, 229, 252, 256, 248, 249, 239, 254, 201, 211, 200, 249, 251, 250, 142, 248, 243, 251, 236, 203, 257, 243, 254, 192, 243, 196, 251, 248, 260, 250, 253, 246, 240, 255, 233, 246, 252, 253, 250, 237, 246, 129, 123, 198, 198, 249, 246, 242, 45, 152, 253, 249, 244, 240, 237, 220, 250, 246, 242, 253, 257, 241, 241, 251, 237, 148, 241, 247, 252, 205, 253, 219, 255, 245, 253, 246, 262, 252, 251, 95, 154, 230, 109, 24, 250, 215, 245, 243, 250, 249, 251, 250, 248, 206, 247, 203, 253, 244, 242, 240, 251, 251, 89, 160, 250, 214, 252, 216, 90, 158, 247, 253, 247, 255, 250, 141, 237, 249, 250, 243, 241]\n"
     ]
    },
    {
     "data": {
      "text/plain": [
       "<AxesSubplot:xlabel='Length', ylabel='Count'>"
      ]
     },
     "execution_count": 98,
     "metadata": {},
     "output_type": "execute_result"
    },
    {
     "data": {
      "image/png": "[encoded data removed]",
      "text/plain": [
       "<Figure size 432x288 with 1 Axes>"
      ]
     },
     "metadata": {
      "needs_background": "light"
     },
     "output_type": "display_data"
    }
   ],
   "source": [
    "data = []\n",
    "for acc in kinases:\n",
    "    #print (kinases[acc].domains)\n",
    "    for domainNum in kinases[acc].domains:\n",
    "        #print (domainNum)\n",
    "        data.append(len(kinases[acc].domains[domainNum]))\n",
    "\n",
    "print (data)\n",
    "df = pd.DataFrame(data = data, columns=['Length'])\n",
    "sns.histplot(data=df, x=\"Length\")"
   ]
  },
  {
   "cell_type": "code",
   "execution_count": 100,
   "id": "a174ece1",
   "metadata": {},
   "outputs": [
    {
     "name": "stdout",
     "output_type": "stream",
     "text": [
      "(419, 264, 21)\n",
      "(419, 264, 21)\n"
     ]
    }
   ],
   "source": [
    "def oneHotEncoding(acc):\n",
    "    AA = ['A', 'C', 'D', 'E', 'F', 'G', 'H', 'I', 'K', 'L', 'M', 'N', 'P', 'Q', 'R', 'S', 'T', 'V', 'W', 'Y', '-']\n",
    "    #print (len(AA))\n",
    "    trainData = []\n",
    "    for acc in kinases:\n",
    "        for domainNum in kinases[acc].domains:\n",
    "            if len(kinases[acc].domains[domainNum]) >= 235:\n",
    "                data = []\n",
    "                numZeros = 0\n",
    "                for i in range(1,265):\n",
    "                    if i in kinases[acc].domains[domainNum]:\n",
    "                        position = kinases[acc].domains[domainNum][i]\n",
    "                        residue = kinases[acc].fasta[position-1]\n",
    "                    else:\n",
    "                        residue = '-'\n",
    "\n",
    "                    row = []\n",
    "                    for aa in AA:\n",
    "                        if residue == aa:\n",
    "                            row.append(1)\n",
    "                        else:\n",
    "                            row.append(0)\n",
    "                    data.append(row)\n",
    "                data = np.array(data)\n",
    "                if data.shape == (264,len(AA)):\n",
    "                    #print (data.shape)\n",
    "                    trainData.append(data)\n",
    "    trainData = np.array(trainData)\n",
    "    print (np.stack(trainData, axis=0).shape)\n",
    "    return (trainData)\n",
    "\n",
    "trainData = oneHotEncoding(acc)\n",
    "print (trainData.shape)"
   ]
  },
  {
   "cell_type": "code",
   "execution_count": 101,
   "id": "29c23c8b",
   "metadata": {
    "scrolled": false
   },
   "outputs": [
    {
     "name": "stdout",
     "output_type": "stream",
     "text": [
      "WARNING:tensorflow:AutoGraph could not transform <bound method Sampling.call of <__main__.Sampling object at 0x7fea38366880>> and will run it as-is.\n",
      "Please report this to the TensorFlow team. When filing the bug, set the verbosity to 10 (on Linux, `export AUTOGRAPH_VERBOSITY=10`) and attach the full output.\n",
      "Cause: module 'gast' has no attribute 'Index'\n",
      "To silence this warning, decorate the function with @tf.autograph.experimental.do_not_convert\n",
      "WARNING: AutoGraph could not transform <bound method Sampling.call of <__main__.Sampling object at 0x7fea38366880>> and will run it as-is.\n",
      "Please report this to the TensorFlow team. When filing the bug, set the verbosity to 10 (on Linux, `export AUTOGRAPH_VERBOSITY=10`) and attach the full output.\n",
      "Cause: module 'gast' has no attribute 'Index'\n",
      "To silence this warning, decorate the function with @tf.autograph.experimental.do_not_convert\n",
      "Model: \"encoder\"\n",
      "__________________________________________________________________________________________________\n",
      "Layer (type)                    Output Shape         Param #     Connected to                     \n",
      "==================================================================================================\n",
      "input_101 (InputLayer)          [(None, 264, 21, 1)] 0                                            \n",
      "__________________________________________________________________________________________________\n",
      "conv2d_100 (Conv2D)             (None, 132, 11, 20)  200         input_101[0][0]                  \n",
      "__________________________________________________________________________________________________\n",
      "conv2d_101 (Conv2D)             (None, 66, 6, 50)    9050        conv2d_100[0][0]                 \n",
      "__________________________________________________________________________________________________\n",
      "flatten_50 (Flatten)            (None, 19800)        0           conv2d_101[0][0]                 \n",
      "__________________________________________________________________________________________________\n",
      "dense_100 (Dense)               (None, 16)           316816      flatten_50[0][0]                 \n",
      "__________________________________________________________________________________________________\n",
      "z_mean (Dense)                  (None, 2)            34          dense_100[0][0]                  \n",
      "__________________________________________________________________________________________________\n",
      "z_log_var (Dense)               (None, 2)            34          dense_100[0][0]                  \n",
      "__________________________________________________________________________________________________\n",
      "sampling_50 (Sampling)          (None, 2)            0           z_mean[0][0]                     \n",
      "                                                                 z_log_var[0][0]                  \n",
      "==================================================================================================\n",
      "Total params: 326,134\n",
      "Trainable params: 326,134\n",
      "Non-trainable params: 0\n",
      "__________________________________________________________________________________________________\n",
      "Model: \"decoder\"\n",
      "_________________________________________________________________\n",
      "Layer (type)                 Output Shape              Param #   \n",
      "=================================================================\n",
      "input_102 (InputLayer)       [(None, 2)]               0         \n",
      "_________________________________________________________________\n",
      "dense_101 (Dense)            (None, 19800)             59400     \n",
      "_________________________________________________________________\n",
      "reshape_50 (Reshape)         (None, 66, 6, 50)         0         \n",
      "_________________________________________________________________\n",
      "conv2d_transpose_146 (Conv2D (None, 132, 12, 50)       22550     \n",
      "_________________________________________________________________\n",
      "conv2d_transpose_147 (Conv2D (None, 264, 24, 20)       9020      \n",
      "_________________________________________________________________\n",
      "cropping2d_26 (Cropping2D)   (None, 264, 21, 20)       0         \n",
      "_________________________________________________________________\n",
      "conv2d_transpose_148 (Conv2D (None, 264, 21, 1)        181       \n",
      "=================================================================\n",
      "Total params: 91,151\n",
      "Trainable params: 91,151\n",
      "Non-trainable params: 0\n",
      "_________________________________________________________________\n"
     ]
    }
   ],
   "source": [
    "## Create Sampling layer\n",
    "class Sampling(layers.Layer):\n",
    "    \"\"\"Uses (z_mean, z_log_var) to sample z, the vector encoding a digit.\"\"\"\n",
    "\n",
    "    def call(self, inputs):\n",
    "        z_mean, z_log_var = inputs\n",
    "        batch = tf.shape(z_mean)[0]\n",
    "        dim = tf.shape(z_mean)[1]\n",
    "        epsilon = tf.keras.backend.random_normal(shape=(batch, dim))\n",
    "        return z_mean + tf.exp(0.5 * z_log_var) * epsilon\n",
    "\n",
    "## Built encoder\n",
    "latent_dim = 2\n",
    "\n",
    "encoder_inputs = keras.Input(shape=(264, 21, 1))\n",
    "x = layers.Conv2D(20, 3, activation=\"relu\", strides=2, padding=\"same\")(encoder_inputs)\n",
    "x = layers.Conv2D(50, 3, activation=\"relu\", strides=2, padding=\"same\")(x)\n",
    "x = layers.Flatten()(x)\n",
    "x = layers.Dense(16, activation=\"relu\")(x)\n",
    "z_mean = layers.Dense(latent_dim, name=\"z_mean\")(x)\n",
    "z_log_var = layers.Dense(latent_dim, name=\"z_log_var\")(x)\n",
    "z = Sampling()([z_mean, z_log_var])\n",
    "encoder = keras.Model(encoder_inputs, [z_mean, z_log_var, z], name=\"encoder\")\n",
    "encoder.summary()\n",
    "\n",
    "\n",
    "## Built decoder\n",
    "latent_inputs = keras.Input(shape=(latent_dim,))\n",
    "x = layers.Dense(66 * 6 * 50, activation=\"relu\")(latent_inputs)\n",
    "x = layers.Reshape((66, 6, 50))(x)\n",
    "x = layers.Conv2DTranspose(50, 3, activation=\"relu\", strides=2, padding=\"same\")(x)\n",
    "x = layers.Conv2DTranspose(20, 3, activation=\"relu\", strides=2, padding=\"same\")(x)\n",
    "decoder_outputs = layers.Cropping2D(cropping=((0, 0), (2, 1)))(x)\n",
    "decoder_outputs = layers.Conv2DTranspose(1, 3, activation=\"sigmoid\", padding=\"same\")(decoder_outputs)\n",
    "decoder = keras.Model(latent_inputs, decoder_outputs, name=\"decoder\")\n",
    "decoder.summary()"
   ]
  },
  {
   "cell_type": "code",
   "execution_count": null,
   "id": "bf3362b8",
   "metadata": {
    "scrolled": false
   },
   "outputs": [
    {
     "name": "stdout",
     "output_type": "stream",
     "text": [
      "(419, 264, 21)\n",
      "Epoch 1/50\n",
      "5/5 [==============================] - 6s 987ms/step - loss: 3804.0889 - reconstruction_loss: 3774.4458 - kl_loss: 1.0806\n",
      "Epoch 2/50\n",
      "5/5 [==============================] - 6s 1s/step - loss: 3344.1039 - reconstruction_loss: 2844.0220 - kl_loss: 291.8949\n",
      "Epoch 3/50\n",
      "5/5 [==============================] - 5s 934ms/step - loss: 2332.3761 - reconstruction_loss: 1964.3425 - kl_loss: 196.4137\n",
      "Epoch 4/50\n",
      "5/5 [==============================] - 6s 1s/step - loss: 1595.9043 - reconstruction_loss: 1396.9181 - kl_loss: 117.9119\n",
      "Epoch 5/50\n"
     ]
    }
   ],
   "source": [
    "## Define VAE\n",
    "class VAE(keras.Model):\n",
    "    def __init__(self, encoder, decoder, **kwargs):\n",
    "        super(VAE, self).__init__(**kwargs)\n",
    "        self.encoder = encoder\n",
    "        self.decoder = decoder\n",
    "        self.total_loss_tracker = keras.metrics.Mean(name=\"total_loss\")\n",
    "        self.reconstruction_loss_tracker = keras.metrics.Mean(\n",
    "            name=\"reconstruction_loss\"\n",
    "        )\n",
    "        self.kl_loss_tracker = keras.metrics.Mean(name=\"kl_loss\")\n",
    "\n",
    "    @property\n",
    "    def metrics(self):\n",
    "        return [\n",
    "            self.total_loss_tracker,\n",
    "            self.reconstruction_loss_tracker,\n",
    "            self.kl_loss_tracker,\n",
    "        ]\n",
    "\n",
    "    def train_step(self, data):\n",
    "        with tf.GradientTape() as tape:\n",
    "            z_mean, z_log_var, z = self.encoder(data)\n",
    "            reconstruction = self.decoder(z)\n",
    "            reconstruction_loss = tf.reduce_mean(\n",
    "                tf.reduce_sum(\n",
    "                    keras.losses.binary_crossentropy(data, reconstruction), axis=(1, 2)\n",
    "                )\n",
    "            )\n",
    "            kl_loss = -0.5 * (1 + z_log_var - tf.square(z_mean) - tf.exp(z_log_var))\n",
    "            kl_loss = tf.reduce_mean(tf.reduce_sum(kl_loss, axis=1))\n",
    "            total_loss = reconstruction_loss + kl_loss\n",
    "        grads = tape.gradient(total_loss, self.trainable_weights)\n",
    "        self.optimizer.apply_gradients(zip(grads, self.trainable_weights))\n",
    "        self.total_loss_tracker.update_state(total_loss)\n",
    "        self.reconstruction_loss_tracker.update_state(reconstruction_loss)\n",
    "        self.kl_loss_tracker.update_state(kl_loss)\n",
    "        return {\n",
    "            \"loss\": self.total_loss_tracker.result(),\n",
    "            \"reconstruction_loss\": self.reconstruction_loss_tracker.result(),\n",
    "            \"kl_loss\": self.kl_loss_tracker.result(),\n",
    "        }\n",
    "\n",
    "print (trainData.shape)\n",
    "trainData = trainData.reshape(419, 264, 21, 1)\n",
    "vae = VAE(encoder, decoder)\n",
    "vae.compile(optimizer=keras.optimizers.Adam())\n",
    "vae.fit(trainData, epochs=50, batch_size=100)"
   ]
  },
  {
   "cell_type": "code",
   "execution_count": 93,
   "id": "f3505d90",
   "metadata": {},
   "outputs": [
    {
     "data": {
      "image/png": "[encoded data removed]",
      "text/plain": [
       "<Figure size 864x720 with 2 Axes>"
      ]
     },
     "metadata": {
      "needs_background": "light"
     },
     "output_type": "display_data"
    }
   ],
   "source": [
    "def plot_label_clusters(vae, data, labels=None):\n",
    "    # display a 2D plot of the digit classes in the latent space\n",
    "    z_mean, _, _ = vae.encoder.predict(data)\n",
    "    plt.figure(figsize=(12, 10))\n",
    "    plt.scatter(z_mean[:, 0], z_mean[:, 1], c=labels)\n",
    "    plt.colorbar()\n",
    "    plt.xlabel(\"z[0]\")\n",
    "    plt.ylabel(\"z[1]\")\n",
    "    plt.show()\n",
    "\n",
    "\n",
    "#(x_train, y_train), _ = keras.datasets.mnist.load_data()\n",
    "#x_train = np.expand_dims(x_train, -1).astype(\"float32\") / 255\n",
    "\n",
    "plot_label_clusters(vae, trainData)\n"
   ]
  },
  {
   "cell_type": "code",
   "execution_count": null,
   "id": "cc9f24ba",
   "metadata": {},
   "outputs": [],
   "source": []
  }
 ],
 "metadata": {
  "kernelspec": {
   "display_name": "kinaseR",
   "language": "python",
   "name": "kinaser"
  },
  "language_info": {
   "codemirror_mode": {
    "name": "ipython",
    "version": 3
   },
   "file_extension": ".py",
   "mimetype": "text/x-python",
   "name": "python",
   "nbconvert_exporter": "python",
   "pygments_lexer": "ipython3",
   "version": "3.8.13"
  }
 },
 "nbformat": 4,
 "nbformat_minor": 5
}
