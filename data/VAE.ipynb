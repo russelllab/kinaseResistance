{
 "cells": [
  {
   "cell_type": "code",
   "execution_count": 105,
   "id": "d376bdbb",
   "metadata": {},
   "outputs": [],
   "source": [
    "## Develop VAE for kinase resistance predtictions\n",
    "\n",
    "import numpy as np\n",
    "import scipy as sp\n",
    "import os, sys, gzip\n",
    "import seaborn as sns\n",
    "import pandas as pd\n",
    "import tensorflow as tf\n",
    "from tensorflow import keras\n",
    "from tensorflow.keras import layers\n",
    "import matplotlib.pyplot as plt\n",
    "tf.random.set_seed(69)\n",
    "\n",
    "\n",
    "# a class to hold kinase information\n",
    "class kinase:\n",
    "    def __init__(self, acc, gene):\n",
    "        self.acc = acc\n",
    "        self.gene = gene\n",
    "        self.fasta = ''\n",
    "        self.hmm = {}\n",
    "        self.oneHotEncoding = {}\n",
    "        self.domains = {}\n",
    "        self.hmmsearch = []\n",
    "        self.access = {}\n",
    "        self.dihedral = {}\n",
    "        self.sec = {}\n",
    "        self.burr = {}\n",
    "        self.iupred = {}\n",
    "        self.mechismo = {}\n"
   ]
  },
  {
   "cell_type": "code",
   "execution_count": 106,
   "id": "d42049f2",
   "metadata": {},
   "outputs": [
    {
     "name": "stdout",
     "output_type": "stream",
     "text": [
      "MRPSGTAGAALLALLAALCPASRALEEKKVCQGTSNKLTQLGTFEDHFLSLQRMFNNCEVVLGNLEITYVQRNYDLSFLKTIQEVAGYVLIALNTVERIPLENLQIIRGNMYYENSYALAVLSNYDANKTGLKELPMRNLQEILHGAVRFSNNPALCNVESIQWRDIVSSDFLSNMSMDFQNHLGSCQKCDPSCPNGSCWGAGEENCQKLTKIICAQQCSGRCRGKSPSDCCHNQCAAGCTGPRESDCLVCRKFRDEATCKDTCPPLMLYNPTTYQMDVNPEGKYSFGATCVKKCPRNYVVTDHGSCVRACGADSYEMEEDGVRKCKKCEGPCRKVCNGIGIGEFKDSLSINATNIKHFKNCTSISGDLHILPVAFRGDSFTHTPPLDPQELDILKTVKEITGFLLIQAWPENRTDLHAFENLEIIRGRTKQHGQFSLAVVSLNITSLGLRSLKEISDGDVIISGNKNLCYANTINWKKLFGTSGQKTKIISNRGENSCKATGQVCHALCSPEGCWGPEPRDCVSCRNVSRGRECVDKCNLLEGEPREFVENSECIQCHPECLPQAMNITCTGRGPDNCIQCAHYIDGPHCVKTCPAGVMGENNTLVWKYADAGHVCHLCHPNCTYGCTGPGLEGCPTNGPKIPSIATGMVGALLLLLVVALGIGLFMRRRHIVRKRTLRRLLQERELVEPLTPSGEAPNQALLRILKETEFKKIKVLGSGAFGTVYKGLWIPEGEKVKIPVAIKELREATSPKANKEILDEAYVMASVDNPHVCRLLGICLTSTVQLITQLMPFGCLLDYVREHKDNIGSQYLLNWCVQIAKGMNYLEDRRLVHRDLAARNVLVKTPQHVKITDFGLAKLLGAEEKEYHAEGGKVPIKWMALESILHRIYTHQSDVWSYGVTVWELMTFGSKPYDGIPASEISSILEKGERLPQPPICTIDVYMIMVKCWMIDADSRPKFRELIIEFSKMARDPQRYLVIQGDERMHLPSPTDSNFYRALMDEEDMDDVVDADEYLIPQQGFFSSPSTSRTPLLSSLSATSNNSTVACIDRNGLQSCPIKEDSFLQRYSSDPTGALTEDSIDDTFLPVPEYINQSVPKRPAGSVQNPVYHNQPLNPAPSRDPHYQDPHSTAVGNPEYLNTVQPTCVNSTFDSPAHWAQKGSHQISLDNPDYQQDFFPKEAKPNGIFKGSTAENAEYLRVAPQSSEFIGA\n"
     ]
    }
   ],
   "source": [
    "exceptions= ['Q9Y2K2', 'Q15303', 'Q9UIK4', 'P33981', 'P35916',\n",
    "             'Q99683', 'Q8IVW4', 'Q9H792', 'Q9P286', 'Q86Z02',\n",
    "             'Q8TF76', 'Q96L34', 'Q13308', 'Q9UK32', 'Q15772',\n",
    "             'P51617', 'Q9Y3S1', 'Q9C098', 'Q6VAB6', 'P21127',\n",
    "             'Q13557', 'Q6ZMQ8', 'Q6P0Q8', 'Q8IZE3', 'P51957',\n",
    "             'O60229', 'Q96RG2', 'Q5VST9', 'Q8WZ42', 'O75962']\n",
    "\n",
    "kinases = {}\n",
    "def loadFasta():\n",
    "    for line in open('humanKinases.fasta', 'r'):\n",
    "        #print (line)\n",
    "        if line[0] == '>':\n",
    "            acc = line.split('|')[1].replace('\\n', '')\n",
    "            gene = line.split('GN=')[1].split()[0]\n",
    "            flag = 0\n",
    "            if acc not in exceptions:\n",
    "                kinases[acc] = kinase(acc, gene)\n",
    "                flag = 1\n",
    "        else:\n",
    "            if flag == 1:\n",
    "                kinases[acc].fasta += line.replace('\\n', '')\n",
    "\n",
    "loadFasta()\n",
    "print (kinases['P00533'].fasta)"
   ]
  },
  {
   "cell_type": "code",
   "execution_count": 107,
   "id": "792333cb",
   "metadata": {},
   "outputs": [],
   "source": [
    "def read_hmmPkinase():\n",
    "    hmm = {}\n",
    "    for line in open('../pfam/Pkinase.hmm'):\n",
    "        if len(line.split()) > 2:\n",
    "            if line.split()[-2] == '-' and line.split()[-3] == '-':\n",
    "                #print (line.split())\n",
    "                position = int(line.split()[0])\n",
    "                hmm[position] = {}\n",
    "                for value, aa in zip(line.split()[1:-5], AA):\n",
    "                    hmm[position][aa] = float(value)\n",
    "            elif line.split()[0] == 'HMM':\n",
    "                AA = line.replace('\\n', '').split()[1:]\n",
    "    return hmm\n",
    "\n",
    "hmmPkinase = read_hmmPkinase()\n",
    "#print (hmmPkin[263]['C'])"
   ]
  },
  {
   "cell_type": "code",
   "execution_count": 108,
   "id": "bdfc7547",
   "metadata": {},
   "outputs": [
    {
     "name": "stdout",
     "output_type": "stream",
     "text": [
      "196\n"
     ]
    }
   ],
   "source": [
    "def hmmsearch():\n",
    "    '''\n",
    "    Function to do an hmmsearch of all kinases against Pkinase.hmm\n",
    "    and store the mappings. Note that some kinases may have more than\n",
    "    one Pkinase domain.\n",
    "    '''\n",
    "    #os.system('hmmsearch -o out.txt ../pfam/Pkinase.hmm humanKinases.fasta')\n",
    "    flag = 0\n",
    "    for line in open('out.txt', 'r'):\n",
    "        if line[:2] == '>>':\n",
    "            acc = line.split('|')[1]\n",
    "            flag = 1\n",
    "            #print (acc)\n",
    "        if flag == 1 and line.split()!= [] and acc in kinases:\n",
    "            if '== domain' in line:\n",
    "                domainNum = line.split('domain')[1].split()[0]\n",
    "                kinases[acc].domains[domainNum] = {}\n",
    "            elif line.split()[0] == 'Pkinase':\n",
    "                hmmStart = int(line.split()[1])\n",
    "                hmmSeq = line.split()[2]\n",
    "                hmmEnd = int(line.split()[3])\n",
    "            elif acc in line.split()[0]:\n",
    "                kinaseStart = int(line.split()[1])\n",
    "                kinaseSeq = line.split()[2]\n",
    "                kinaseEnd = int(line.split()[3])\n",
    "                for hmmChar, kinaseChar in zip(hmmSeq, kinaseSeq):\n",
    "                    if hmmChar not in ['.', '-'] and kinaseChar not in ['.', '-']:\n",
    "                        #kinases[acc].domains[domainNum][kinaseStart] = hmmStart\n",
    "                        kinases[acc].domains[domainNum][hmmStart] = kinaseStart\n",
    "                        hmmStart += 1\n",
    "                        kinaseStart += 1\n",
    "                    elif hmmChar in ['.', '-']:\n",
    "                        kinaseStart += 1\n",
    "                    elif kinaseChar in ['.', '-']:\n",
    "                        hmmStart += 1\n",
    "        #print (kinases[acc].domains)\n",
    "        #sys.exit()\n",
    "    print (kinases['Q96NX5'].domains['1'][174])\n",
    "hmmsearch()"
   ]
  },
  {
   "cell_type": "code",
   "execution_count": 109,
   "id": "5ca61ce7",
   "metadata": {},
   "outputs": [
    {
     "name": "stdout",
     "output_type": "stream",
     "text": [
      "[]\n",
      "{'A': -1.7, 'C': -2.8, 'D': 0.2, 'E': 0.5, 'F': -1.4, 'G': -2.1, 'H': -0.2, 'I': -1.7, 'K': 0.6, 'L': -1.6, 'M': -1.0, 'N': 0.0, 'P': -0.4, 'Q': 0.3, 'R': 0.4, 'S': -0.8, 'T': -0.6, 'V': -1.8, 'W': -0.9, 'Y': -0.8}\n"
     ]
    }
   ],
   "source": [
    "def createDicForDSSP(dic, position, mutation, value):\n",
    "    if position not in dic:\n",
    "        dic[position] = {}\n",
    "    dic[position][mutation] = float(value)\n",
    "\n",
    "def dsspScores():\n",
    "    remove = []\n",
    "    dir = '/net/home.isilon/ds-russell/mechismoX/analysis/features/data/'\n",
    "    for num, acc in enumerate(kinases):\n",
    "        for line in gzip.open(dir + acc[:4] + '/AF-' + acc + '-F1-model_v1.dssp-scores.gz', 'rt'):\n",
    "            #print (acc, line.split())\n",
    "            position = int(line.split()[0])\n",
    "            mutation = line.split()[10]\n",
    "            ## Dihedral angles\n",
    "            torsional = line.split()[18]\n",
    "            #print (kinases[acc].dihedral)\n",
    "            createDicForDSSP(kinases[acc].dihedral, position, mutation, torsional)\n",
    "            ## Secondary structures\n",
    "            secondary = line.split()[22]\n",
    "            createDicForDSSP(kinases[acc].sec, position, mutation, secondary)\n",
    "            ## Accessibility\n",
    "            accessibility = line.split()[26]\n",
    "            createDicForDSSP(kinases[acc].access, position, mutation, accessibility)\n",
    "            ## Buried\n",
    "            buried = line.split()[30]\n",
    "            createDicForDSSP(kinases[acc].burr, position, mutation, buried)\n",
    "            #break\n",
    "        #break\n",
    "    print (list(set(remove)))\n",
    "dsspScores()\n",
    "print (kinases['Q9NYV4'].burr[3])"
   ]
  },
  {
   "cell_type": "code",
   "execution_count": 110,
   "id": "3edb08ea",
   "metadata": {
    "scrolled": true
   },
   "outputs": [
    {
     "name": "stdout",
     "output_type": "stream",
     "text": [
      "50\n",
      "100\n",
      "150\n",
      "200\n",
      "250\n",
      "300\n",
      "350\n",
      "400\n",
      "450\n"
     ]
    }
   ],
   "source": [
    "def iupredScores():\n",
    "    remove = []\n",
    "    dir = '/net/home.isilon/ds-russell/mechismoX/analysis/features/data/'\n",
    "    for num, acc in enumerate(kinases):\n",
    "        if ((num+1)%50 == 0):\n",
    "            print (num+1)\n",
    "        for line in gzip.open(dir + acc[:4] + '/AF-' + acc + '-F1-model_v1.iupred.gz', 'rt'):\n",
    "            #print (acc, line.split())\n",
    "            position = int(line.split()[0])\n",
    "            mutation = line.split()[3]\n",
    "            ## IUPred\n",
    "            iupred = float(line.split()[9])\n",
    "            createDicForDSSP(kinases[acc].iupred, position, mutation, iupred)\n",
    "            \n",
    "iupredScores()"
   ]
  },
  {
   "cell_type": "code",
   "execution_count": 111,
   "id": "310cd84d",
   "metadata": {},
   "outputs": [
    {
     "name": "stdout",
     "output_type": "stream",
     "text": [
      "50\n",
      "100\n",
      "150\n",
      "200\n",
      "250\n",
      "300\n",
      "350\n",
      "400\n",
      "450\n"
     ]
    }
   ],
   "source": [
    "def mechismoScores():\n",
    "    remove = []\n",
    "    dir = '/net/home.isilon/ds-russell/mechismoX/analysis/features/data/'\n",
    "    for num, acc in enumerate(kinases):\n",
    "        if ((num+1)%50 == 0):\n",
    "            print (num+1)\n",
    "        for line in gzip.open(dir + acc[:4] + '/AF-' + acc + '-F1-model_v1.mech_intra.gz', 'rt'):\n",
    "            if line.split()[0] == 'MECH':\n",
    "                #print (acc, line.split())\n",
    "                #sys.exit()\n",
    "                position = int(line.split()[1])\n",
    "                mutation = line.split()[3]\n",
    "                ## Mechismo score\n",
    "                mechismo = float(line.split()[6])\n",
    "                createDicForDSSP(kinases[acc].mechismo, position, mutation, mechismo)\n",
    "            \n",
    "mechismoScores()"
   ]
  },
  {
   "cell_type": "code",
   "execution_count": 113,
   "id": "826f29fe",
   "metadata": {},
   "outputs": [
    {
     "data": {
      "text/plain": [
       "<AxesSubplot:xlabel='Length', ylabel='Count'>"
      ]
     },
     "execution_count": 113,
     "metadata": {},
     "output_type": "execute_result"
    },
    {
     "data": {
      "image/png": "[encoded data removed]",
      "text/plain": [
       "<Figure size 432x288 with 1 Axes>"
      ]
     },
     "metadata": {
      "needs_background": "light"
     },
     "output_type": "display_data"
    }
   ],
   "source": [
    "#print (kinases['Q9NYV4'].mechismo)\n",
    "data = []\n",
    "for acc in kinases:\n",
    "    #print (kinases[acc].domains)\n",
    "    for domainNum in kinases[acc].domains:\n",
    "        #print (domainNum)\n",
    "        data.append(len(kinases[acc].domains[domainNum]))\n",
    "\n",
    "#print (data)\n",
    "df = pd.DataFrame(data = data, columns=['Length'])\n",
    "sns.histplot(data=df, x=\"Length\")"
   ]
  },
  {
   "cell_type": "code",
   "execution_count": 134,
   "id": "a174ece1",
   "metadata": {},
   "outputs": [
    {
     "name": "stdout",
     "output_type": "stream",
     "text": [
      "(420, 264, 28)\n"
     ]
    }
   ],
   "source": [
    "def fetchPkinase(acc, domainNum):\n",
    "    '''\n",
    "    A function to take acc and alignment cutoff values to return\n",
    "    the HMM bitscores\n",
    "    '''\n",
    "    row = []\n",
    "    for hmmPosition in range(1,265):\n",
    "        if hmmPosition in kinases[acc].domains[domainNum]:\n",
    "            SeqPosition = kinases[acc].domains[domainNum][hmmPosition]\n",
    "            aa = kinases[acc].fasta[SeqPosition-1]\n",
    "            value = float(hmmPkinase[hmmPosition][aa])\n",
    "        else:\n",
    "            value = 3\n",
    "\n",
    "        row.append(value)\n",
    "    #print (len(row))\n",
    "    kinases[acc].hmm[domainNum] = row\n",
    "    return row\n",
    "\n",
    "def fetchStrucFeat(acc, domainNum):\n",
    "    data = []\n",
    "    df = pd.DataFrame()\n",
    "    for dic, name in zip([kinases[acc].dihedral, kinases[acc].sec, kinases[acc].burr, kinases[acc].access, kinases[acc].iupred, kinases[acc].mechismo],\n",
    "                        ['dihedral', 'access', 'burr', 'sec', 'iupred', 'mechismo']):\n",
    "        row = []\n",
    "        for hmmPosition in range(1,265):\n",
    "            if hmmPosition in kinases[acc].domains[domainNum]:\n",
    "                SeqPosition = kinases[acc].domains[domainNum][hmmPosition]\n",
    "                residue = kinases[acc].fasta[SeqPosition-1]\n",
    "                #print (SeqPosition)\n",
    "                try:\n",
    "                    value = dic[SeqPosition][residue]\n",
    "                except:\n",
    "                    print (acc, SeqPosition, len(dic))\n",
    "                    sys.exit()\n",
    "            else:\n",
    "                value = 3\n",
    "            row.append(value)\n",
    "        #f = pd.DataFrame(data, columns=AA)\n",
    "        df[name] = row\n",
    "    #print (df)\n",
    "    return df\n",
    "            \n",
    "def oneHotEncoding(acc, domainNum):\n",
    "    '''\n",
    "    A function to take acc and alignment cutoff values to return\n",
    "    the feature matrix (one hot encoded)\n",
    "    '''\n",
    "    AA = ['A', 'C', 'D', 'E', 'F', 'G', 'H', 'I', 'K', 'L', 'M', 'N', 'P', 'Q', 'R', 'S', 'T', 'V', 'W', 'Y', '-']\n",
    "    #print (len(AA))\n",
    "    data = []\n",
    "    numZeros = 0\n",
    "    for i in range(1,265):\n",
    "        if i in kinases[acc].domains[domainNum]:\n",
    "            position = kinases[acc].domains[domainNum][i]\n",
    "            residue = kinases[acc].fasta[position-1]\n",
    "        else:\n",
    "            residue = '-'\n",
    "\n",
    "        row = []\n",
    "        for aa in AA:\n",
    "            if residue == aa:\n",
    "                row.append(1)\n",
    "            else:\n",
    "                row.append(0)\n",
    "        data.append(row)\n",
    "        '''\n",
    "        if acc == 'Q96NX5' and i == 173:\n",
    "            print (residue)\n",
    "            print (row)\n",
    "        '''\n",
    "    data = np.array(data)\n",
    "    kinases[acc].oneHotEncoding[domainNum] = data\n",
    "    '''\n",
    "    if data.shape == (264,len(AA)):\n",
    "        #print (data.shape)\n",
    "        trainData.append(data)\n",
    "    '''\n",
    "            \n",
    "    #trainData = np.array(trainData)\n",
    "    #print (np.stack(trainData, axis=0).shape)\n",
    "    return (data, AA)\n",
    "\n",
    "df = pd.DataFrame()\n",
    "trainData = []\n",
    "alignmentCutoff = 200\n",
    "for acc in kinases:\n",
    "    for domainNum in kinases[acc].domains:\n",
    "        if len(kinases[acc].domains[domainNum]) >= alignmentCutoff:\n",
    "            \n",
    "            data, AA = oneHotEncoding(acc, domainNum)\n",
    "            df = pd.DataFrame(data, columns=AA)\n",
    "            df['HMM'] = fetchPkinase(acc, domainNum)\n",
    "            df = pd.concat([df, fetchStrucFeat(acc, domainNum)], axis=1)\n",
    "            #print (acc, kinases[acc].hmm)\n",
    "            trainData.append(df.to_numpy())\n",
    "        #break\n",
    "\n",
    "trainData = np.array(trainData)\n",
    "np.stack(trainData, axis=0)\n",
    "print (trainData.shape)\n",
    "np.save('trainData.npy', trainData)\n",
    "numSamples, numRows, numCols = trainData.shape\n",
    "\n",
    "#for data in trainData:\n",
    "#    print (data.shape)"
   ]
  },
  {
   "cell_type": "code",
   "execution_count": 136,
   "id": "b5bf5dd9",
   "metadata": {},
   "outputs": [
    {
     "name": "stdout",
     "output_type": "stream",
     "text": [
      "(420, 264, 28)\n"
     ]
    }
   ],
   "source": [
    "trainData = np.load('trainData.npy')\n",
    "print (trainData.shape)"
   ]
  },
  {
   "cell_type": "code",
   "execution_count": 132,
   "id": "a0fbf181",
   "metadata": {
    "scrolled": false
   },
   "outputs": [
    {
     "name": "stdout",
     "output_type": "stream",
     "text": [
      "WARNING:tensorflow:AutoGraph could not transform <bound method Sampling.call of <__main__.Sampling object at 0x7fa359e01a90>> and will run it as-is.\n",
      "Please report this to the TensorFlow team. When filing the bug, set the verbosity to 10 (on Linux, `export AUTOGRAPH_VERBOSITY=10`) and attach the full output.\n",
      "Cause: module 'gast' has no attribute 'Index'\n",
      "To silence this warning, decorate the function with @tf.autograph.experimental.do_not_convert\n",
      "WARNING: AutoGraph could not transform <bound method Sampling.call of <__main__.Sampling object at 0x7fa359e01a90>> and will run it as-is.\n",
      "Please report this to the TensorFlow team. When filing the bug, set the verbosity to 10 (on Linux, `export AUTOGRAPH_VERBOSITY=10`) and attach the full output.\n",
      "Cause: module 'gast' has no attribute 'Index'\n",
      "To silence this warning, decorate the function with @tf.autograph.experimental.do_not_convert\n",
      "Model: \"encoder\"\n",
      "__________________________________________________________________________________________________\n",
      "Layer (type)                    Output Shape         Param #     Connected to                     \n",
      "==================================================================================================\n",
      "input_25 (InputLayer)           [(None, 264, 28, 1)] 0                                            \n",
      "__________________________________________________________________________________________________\n",
      "conv2d_24 (Conv2D)              (None, 132, 14, 20)  200         input_25[0][0]                   \n",
      "__________________________________________________________________________________________________\n",
      "batch_normalization_5 (BatchNor (None, 132, 14, 20)  80          conv2d_24[0][0]                  \n",
      "__________________________________________________________________________________________________\n",
      "conv2d_25 (Conv2D)              (None, 66, 7, 50)    9050        batch_normalization_5[0][0]      \n",
      "__________________________________________________________________________________________________\n",
      "batch_normalization_6 (BatchNor (None, 66, 7, 50)    200         conv2d_25[0][0]                  \n",
      "__________________________________________________________________________________________________\n",
      "flatten_12 (Flatten)            (None, 23100)        0           batch_normalization_6[0][0]      \n",
      "__________________________________________________________________________________________________\n",
      "dense_24 (Dense)                (None, 20)           462020      flatten_12[0][0]                 \n",
      "__________________________________________________________________________________________________\n",
      "batch_normalization_7 (BatchNor (None, 20)           80          dense_24[0][0]                   \n",
      "__________________________________________________________________________________________________\n",
      "z_mean (Dense)                  (None, 2)            42          batch_normalization_7[0][0]      \n",
      "__________________________________________________________________________________________________\n",
      "z_log_var (Dense)               (None, 2)            42          batch_normalization_7[0][0]      \n",
      "__________________________________________________________________________________________________\n",
      "sampling_12 (Sampling)          (None, 2)            0           z_mean[0][0]                     \n",
      "                                                                 z_log_var[0][0]                  \n",
      "==================================================================================================\n",
      "Total params: 471,714\n",
      "Trainable params: 471,534\n",
      "Non-trainable params: 180\n",
      "__________________________________________________________________________________________________\n",
      "Model: \"decoder\"\n",
      "_________________________________________________________________\n",
      "Layer (type)                 Output Shape              Param #   \n",
      "=================================================================\n",
      "input_26 (InputLayer)        [(None, 2)]               0         \n",
      "_________________________________________________________________\n",
      "dense_25 (Dense)             (None, 23100)             69300     \n",
      "_________________________________________________________________\n",
      "batch_normalization_8 (Batch (None, 23100)             92400     \n",
      "_________________________________________________________________\n",
      "reshape_12 (Reshape)         (None, 66, 7, 50)         0         \n",
      "_________________________________________________________________\n",
      "conv2d_transpose_36 (Conv2DT (None, 132, 14, 50)       22550     \n",
      "_________________________________________________________________\n",
      "batch_normalization_9 (Batch (None, 132, 14, 50)       200       \n",
      "_________________________________________________________________\n",
      "conv2d_transpose_37 (Conv2DT (None, 264, 28, 20)       9020      \n",
      "_________________________________________________________________\n",
      "batch_normalization_10 (Batc (None, 264, 28, 20)       80        \n",
      "_________________________________________________________________\n",
      "conv2d_transpose_38 (Conv2DT (None, 264, 28, 1)        181       \n",
      "=================================================================\n",
      "Total params: 193,731\n",
      "Trainable params: 147,391\n",
      "Non-trainable params: 46,340\n",
      "_________________________________________________________________\n"
     ]
    }
   ],
   "source": [
    "## Create Sampling layer\n",
    "class Sampling(layers.Layer):\n",
    "    \"\"\"Uses (z_mean, z_log_var) to sample z, the vector encoding a digit.\"\"\"\n",
    "\n",
    "    def call(self, inputs):\n",
    "        z_mean, z_log_var = inputs\n",
    "        batch = tf.shape(z_mean)[0]\n",
    "        dim = tf.shape(z_mean)[1]\n",
    "        epsilon = tf.keras.backend.random_normal(shape=(batch, dim))\n",
    "        return z_mean + tf.exp(0.5 * z_log_var) * epsilon\n",
    "\n",
    "## Built encoder\n",
    "latent_dim = 2\n",
    "\n",
    "encoder_inputs = keras.Input(shape=(numRows, numCols, 1))\n",
    "x = layers.Conv2D(20, 3, activation=\"relu\", strides=2, padding=\"same\")(encoder_inputs)\n",
    "x = layers.BatchNormalization()(x)\n",
    "x = layers.Conv2D(50, 3, activation=\"relu\", strides=2, padding=\"same\")(x)\n",
    "x = layers.BatchNormalization()(x)\n",
    "x = layers.Flatten()(x)\n",
    "x = layers.Dense(20, activation=\"relu\")(x)\n",
    "x = layers.BatchNormalization()(x)\n",
    "z_mean = layers.Dense(latent_dim, name=\"z_mean\")(x)\n",
    "z_log_var = layers.Dense(latent_dim, name=\"z_log_var\")(x)\n",
    "z = Sampling()([z_mean, z_log_var])\n",
    "encoder = keras.Model(encoder_inputs, [z_mean, z_log_var, z], name=\"encoder\")\n",
    "encoder.summary()\n",
    "\n",
    "\n",
    "## Built decoder\n",
    "latent_inputs = keras.Input(shape=(latent_dim,))\n",
    "x = layers.Dense(66 * 7 * 50, activation=\"relu\")(latent_inputs)\n",
    "x = layers.BatchNormalization()(x)\n",
    "x = layers.Reshape((66, 7, 50))(x)\n",
    "x = layers.Conv2DTranspose(50, 3, activation=\"relu\", strides=2, padding=\"same\")(x)\n",
    "x = layers.BatchNormalization()(x)\n",
    "x = layers.Conv2DTranspose(20, 3, activation=\"relu\", strides=2, padding=\"same\")(x)\n",
    "x = layers.BatchNormalization()(x)\n",
    "#decoder_outputs = layers.Cropping2D(cropping=((0, 0), (0, 0)))(x)\n",
    "#decoder_outputs = layers.Conv2DTranspose(1, 3, activation=\"sigmoid\", padding=\"same\")(decoder_outputs)\n",
    "decoder_outputs = layers.Conv2DTranspose(1, 3, activation=\"sigmoid\", padding=\"same\")(x)\n",
    "decoder = keras.Model(latent_inputs, decoder_outputs, name=\"decoder\")\n",
    "decoder.summary()"
   ]
  },
  {
   "cell_type": "code",
   "execution_count": 133,
   "id": "957fa2ca",
   "metadata": {
    "scrolled": true
   },
   "outputs": [
    {
     "name": "stdout",
     "output_type": "stream",
     "text": [
      "(420, 264, 28, 1)\n",
      "Epoch 1/50\n",
      "42/42 [==============================] - 20s 438ms/step - loss: 29110.5973 - reconstruction_loss: 23320.9590 - kl_loss: 727.0120\n",
      "Epoch 2/50\n",
      "42/42 [==============================] - 18s 440ms/step - loss: 16955.5536 - reconstruction_loss: 16577.1094 - kl_loss: 126.6032\n",
      "Epoch 3/50\n",
      "42/42 [==============================] - 19s 449ms/step - loss: 16245.0421 - reconstruction_loss: 16080.4580 - kl_loss: 64.8831\n",
      "Epoch 4/50\n",
      "42/42 [==============================] - 19s 458ms/step - loss: 16252.9916 - reconstruction_loss: 15932.6396 - kl_loss: 47.9422\n",
      "Epoch 5/50\n",
      "42/42 [==============================] - 19s 449ms/step - loss: 15910.1348 - reconstruction_loss: 15803.4463 - kl_loss: 37.4679\n",
      "Epoch 6/50\n",
      "42/42 [==============================] - 18s 440ms/step - loss: 15843.1061 - reconstruction_loss: 15606.2139 - kl_loss: 31.6131\n",
      "Epoch 7/50\n",
      "33/42 [======================>.......] - ETA: 4s - loss: 15115.2375 - reconstruction_loss: 15420.7344 - kl_loss: 28.5391"
     ]
    },
    {
     "ename": "KeyboardInterrupt",
     "evalue": "",
     "output_type": "error",
     "traceback": [
      "\u001b[0;31m---------------------------------------------------------------------------\u001b[0m",
      "\u001b[0;31mKeyboardInterrupt\u001b[0m                         Traceback (most recent call last)",
      "Input \u001b[0;32mIn [133]\u001b[0m, in \u001b[0;36m<cell line: 57>\u001b[0;34m()\u001b[0m\n\u001b[1;32m     55\u001b[0m vae \u001b[38;5;241m=\u001b[39m VAE(encoder, decoder)\n\u001b[1;32m     56\u001b[0m vae\u001b[38;5;241m.\u001b[39mcompile(optimizer\u001b[38;5;241m=\u001b[39mkeras\u001b[38;5;241m.\u001b[39moptimizers\u001b[38;5;241m.\u001b[39mAdam())\n\u001b[0;32m---> 57\u001b[0m \u001b[43mvae\u001b[49m\u001b[38;5;241;43m.\u001b[39;49m\u001b[43mfit\u001b[49m\u001b[43m(\u001b[49m\u001b[43mtrainData\u001b[49m\u001b[43m,\u001b[49m\u001b[43m \u001b[49m\u001b[43mepochs\u001b[49m\u001b[38;5;241;43m=\u001b[39;49m\u001b[38;5;241;43m50\u001b[39;49m\u001b[43m,\u001b[49m\u001b[43m \u001b[49m\u001b[43mbatch_size\u001b[49m\u001b[38;5;241;43m=\u001b[39;49m\u001b[38;5;241;43m10\u001b[39;49m\u001b[43m)\u001b[49m\n",
      "File \u001b[0;32m~/anaconda3/envs/kinaseR/lib/python3.8/site-packages/tensorflow/python/keras/engine/training.py:1100\u001b[0m, in \u001b[0;36mModel.fit\u001b[0;34m(self, x, y, batch_size, epochs, verbose, callbacks, validation_split, validation_data, shuffle, class_weight, sample_weight, initial_epoch, steps_per_epoch, validation_steps, validation_batch_size, validation_freq, max_queue_size, workers, use_multiprocessing)\u001b[0m\n\u001b[1;32m   1093\u001b[0m \u001b[38;5;28;01mwith\u001b[39;00m trace\u001b[38;5;241m.\u001b[39mTrace(\n\u001b[1;32m   1094\u001b[0m     \u001b[38;5;124m'\u001b[39m\u001b[38;5;124mtrain\u001b[39m\u001b[38;5;124m'\u001b[39m,\n\u001b[1;32m   1095\u001b[0m     epoch_num\u001b[38;5;241m=\u001b[39mepoch,\n\u001b[1;32m   1096\u001b[0m     step_num\u001b[38;5;241m=\u001b[39mstep,\n\u001b[1;32m   1097\u001b[0m     batch_size\u001b[38;5;241m=\u001b[39mbatch_size,\n\u001b[1;32m   1098\u001b[0m     _r\u001b[38;5;241m=\u001b[39m\u001b[38;5;241m1\u001b[39m):\n\u001b[1;32m   1099\u001b[0m   callbacks\u001b[38;5;241m.\u001b[39mon_train_batch_begin(step)\n\u001b[0;32m-> 1100\u001b[0m   tmp_logs \u001b[38;5;241m=\u001b[39m \u001b[38;5;28;43mself\u001b[39;49m\u001b[38;5;241;43m.\u001b[39;49m\u001b[43mtrain_function\u001b[49m\u001b[43m(\u001b[49m\u001b[43miterator\u001b[49m\u001b[43m)\u001b[49m\n\u001b[1;32m   1101\u001b[0m   \u001b[38;5;28;01mif\u001b[39;00m data_handler\u001b[38;5;241m.\u001b[39mshould_sync:\n\u001b[1;32m   1102\u001b[0m     context\u001b[38;5;241m.\u001b[39masync_wait()\n",
      "File \u001b[0;32m~/anaconda3/envs/kinaseR/lib/python3.8/site-packages/tensorflow/python/eager/def_function.py:828\u001b[0m, in \u001b[0;36mFunction.__call__\u001b[0;34m(self, *args, **kwds)\u001b[0m\n\u001b[1;32m    826\u001b[0m tracing_count \u001b[38;5;241m=\u001b[39m \u001b[38;5;28mself\u001b[39m\u001b[38;5;241m.\u001b[39mexperimental_get_tracing_count()\n\u001b[1;32m    827\u001b[0m \u001b[38;5;28;01mwith\u001b[39;00m trace\u001b[38;5;241m.\u001b[39mTrace(\u001b[38;5;28mself\u001b[39m\u001b[38;5;241m.\u001b[39m_name) \u001b[38;5;28;01mas\u001b[39;00m tm:\n\u001b[0;32m--> 828\u001b[0m   result \u001b[38;5;241m=\u001b[39m \u001b[38;5;28;43mself\u001b[39;49m\u001b[38;5;241;43m.\u001b[39;49m\u001b[43m_call\u001b[49m\u001b[43m(\u001b[49m\u001b[38;5;241;43m*\u001b[39;49m\u001b[43margs\u001b[49m\u001b[43m,\u001b[49m\u001b[43m \u001b[49m\u001b[38;5;241;43m*\u001b[39;49m\u001b[38;5;241;43m*\u001b[39;49m\u001b[43mkwds\u001b[49m\u001b[43m)\u001b[49m\n\u001b[1;32m    829\u001b[0m   compiler \u001b[38;5;241m=\u001b[39m \u001b[38;5;124m\"\u001b[39m\u001b[38;5;124mxla\u001b[39m\u001b[38;5;124m\"\u001b[39m \u001b[38;5;28;01mif\u001b[39;00m \u001b[38;5;28mself\u001b[39m\u001b[38;5;241m.\u001b[39m_experimental_compile \u001b[38;5;28;01melse\u001b[39;00m \u001b[38;5;124m\"\u001b[39m\u001b[38;5;124mnonXla\u001b[39m\u001b[38;5;124m\"\u001b[39m\n\u001b[1;32m    830\u001b[0m   new_tracing_count \u001b[38;5;241m=\u001b[39m \u001b[38;5;28mself\u001b[39m\u001b[38;5;241m.\u001b[39mexperimental_get_tracing_count()\n",
      "File \u001b[0;32m~/anaconda3/envs/kinaseR/lib/python3.8/site-packages/tensorflow/python/eager/def_function.py:855\u001b[0m, in \u001b[0;36mFunction._call\u001b[0;34m(self, *args, **kwds)\u001b[0m\n\u001b[1;32m    852\u001b[0m   \u001b[38;5;28mself\u001b[39m\u001b[38;5;241m.\u001b[39m_lock\u001b[38;5;241m.\u001b[39mrelease()\n\u001b[1;32m    853\u001b[0m   \u001b[38;5;66;03m# In this case we have created variables on the first call, so we run the\u001b[39;00m\n\u001b[1;32m    854\u001b[0m   \u001b[38;5;66;03m# defunned version which is guaranteed to never create variables.\u001b[39;00m\n\u001b[0;32m--> 855\u001b[0m   \u001b[38;5;28;01mreturn\u001b[39;00m \u001b[38;5;28;43mself\u001b[39;49m\u001b[38;5;241;43m.\u001b[39;49m\u001b[43m_stateless_fn\u001b[49m\u001b[43m(\u001b[49m\u001b[38;5;241;43m*\u001b[39;49m\u001b[43margs\u001b[49m\u001b[43m,\u001b[49m\u001b[43m \u001b[49m\u001b[38;5;241;43m*\u001b[39;49m\u001b[38;5;241;43m*\u001b[39;49m\u001b[43mkwds\u001b[49m\u001b[43m)\u001b[49m  \u001b[38;5;66;03m# pylint: disable=not-callable\u001b[39;00m\n\u001b[1;32m    856\u001b[0m \u001b[38;5;28;01melif\u001b[39;00m \u001b[38;5;28mself\u001b[39m\u001b[38;5;241m.\u001b[39m_stateful_fn \u001b[38;5;129;01mis\u001b[39;00m \u001b[38;5;129;01mnot\u001b[39;00m \u001b[38;5;28;01mNone\u001b[39;00m:\n\u001b[1;32m    857\u001b[0m   \u001b[38;5;66;03m# Release the lock early so that multiple threads can perform the call\u001b[39;00m\n\u001b[1;32m    858\u001b[0m   \u001b[38;5;66;03m# in parallel.\u001b[39;00m\n\u001b[1;32m    859\u001b[0m   \u001b[38;5;28mself\u001b[39m\u001b[38;5;241m.\u001b[39m_lock\u001b[38;5;241m.\u001b[39mrelease()\n",
      "File \u001b[0;32m~/anaconda3/envs/kinaseR/lib/python3.8/site-packages/tensorflow/python/eager/function.py:2942\u001b[0m, in \u001b[0;36mFunction.__call__\u001b[0;34m(self, *args, **kwargs)\u001b[0m\n\u001b[1;32m   2939\u001b[0m \u001b[38;5;28;01mwith\u001b[39;00m \u001b[38;5;28mself\u001b[39m\u001b[38;5;241m.\u001b[39m_lock:\n\u001b[1;32m   2940\u001b[0m   (graph_function,\n\u001b[1;32m   2941\u001b[0m    filtered_flat_args) \u001b[38;5;241m=\u001b[39m \u001b[38;5;28mself\u001b[39m\u001b[38;5;241m.\u001b[39m_maybe_define_function(args, kwargs)\n\u001b[0;32m-> 2942\u001b[0m \u001b[38;5;28;01mreturn\u001b[39;00m \u001b[43mgraph_function\u001b[49m\u001b[38;5;241;43m.\u001b[39;49m\u001b[43m_call_flat\u001b[49m\u001b[43m(\u001b[49m\n\u001b[1;32m   2943\u001b[0m \u001b[43m    \u001b[49m\u001b[43mfiltered_flat_args\u001b[49m\u001b[43m,\u001b[49m\u001b[43m \u001b[49m\u001b[43mcaptured_inputs\u001b[49m\u001b[38;5;241;43m=\u001b[39;49m\u001b[43mgraph_function\u001b[49m\u001b[38;5;241;43m.\u001b[39;49m\u001b[43mcaptured_inputs\u001b[49m\u001b[43m)\u001b[49m\n",
      "File \u001b[0;32m~/anaconda3/envs/kinaseR/lib/python3.8/site-packages/tensorflow/python/eager/function.py:1918\u001b[0m, in \u001b[0;36mConcreteFunction._call_flat\u001b[0;34m(self, args, captured_inputs, cancellation_manager)\u001b[0m\n\u001b[1;32m   1914\u001b[0m possible_gradient_type \u001b[38;5;241m=\u001b[39m gradients_util\u001b[38;5;241m.\u001b[39mPossibleTapeGradientTypes(args)\n\u001b[1;32m   1915\u001b[0m \u001b[38;5;28;01mif\u001b[39;00m (possible_gradient_type \u001b[38;5;241m==\u001b[39m gradients_util\u001b[38;5;241m.\u001b[39mPOSSIBLE_GRADIENT_TYPES_NONE\n\u001b[1;32m   1916\u001b[0m     \u001b[38;5;129;01mand\u001b[39;00m executing_eagerly):\n\u001b[1;32m   1917\u001b[0m   \u001b[38;5;66;03m# No tape is watching; skip to running the function.\u001b[39;00m\n\u001b[0;32m-> 1918\u001b[0m   \u001b[38;5;28;01mreturn\u001b[39;00m \u001b[38;5;28mself\u001b[39m\u001b[38;5;241m.\u001b[39m_build_call_outputs(\u001b[38;5;28;43mself\u001b[39;49m\u001b[38;5;241;43m.\u001b[39;49m\u001b[43m_inference_function\u001b[49m\u001b[38;5;241;43m.\u001b[39;49m\u001b[43mcall\u001b[49m\u001b[43m(\u001b[49m\n\u001b[1;32m   1919\u001b[0m \u001b[43m      \u001b[49m\u001b[43mctx\u001b[49m\u001b[43m,\u001b[49m\u001b[43m \u001b[49m\u001b[43margs\u001b[49m\u001b[43m,\u001b[49m\u001b[43m \u001b[49m\u001b[43mcancellation_manager\u001b[49m\u001b[38;5;241;43m=\u001b[39;49m\u001b[43mcancellation_manager\u001b[49m\u001b[43m)\u001b[49m)\n\u001b[1;32m   1920\u001b[0m forward_backward \u001b[38;5;241m=\u001b[39m \u001b[38;5;28mself\u001b[39m\u001b[38;5;241m.\u001b[39m_select_forward_and_backward_functions(\n\u001b[1;32m   1921\u001b[0m     args,\n\u001b[1;32m   1922\u001b[0m     possible_gradient_type,\n\u001b[1;32m   1923\u001b[0m     executing_eagerly)\n\u001b[1;32m   1924\u001b[0m forward_function, args_with_tangents \u001b[38;5;241m=\u001b[39m forward_backward\u001b[38;5;241m.\u001b[39mforward()\n",
      "File \u001b[0;32m~/anaconda3/envs/kinaseR/lib/python3.8/site-packages/tensorflow/python/eager/function.py:555\u001b[0m, in \u001b[0;36m_EagerDefinedFunction.call\u001b[0;34m(self, ctx, args, cancellation_manager)\u001b[0m\n\u001b[1;32m    553\u001b[0m \u001b[38;5;28;01mwith\u001b[39;00m _InterpolateFunctionError(\u001b[38;5;28mself\u001b[39m):\n\u001b[1;32m    554\u001b[0m   \u001b[38;5;28;01mif\u001b[39;00m cancellation_manager \u001b[38;5;129;01mis\u001b[39;00m \u001b[38;5;28;01mNone\u001b[39;00m:\n\u001b[0;32m--> 555\u001b[0m     outputs \u001b[38;5;241m=\u001b[39m \u001b[43mexecute\u001b[49m\u001b[38;5;241;43m.\u001b[39;49m\u001b[43mexecute\u001b[49m\u001b[43m(\u001b[49m\n\u001b[1;32m    556\u001b[0m \u001b[43m        \u001b[49m\u001b[38;5;28;43mstr\u001b[39;49m\u001b[43m(\u001b[49m\u001b[38;5;28;43mself\u001b[39;49m\u001b[38;5;241;43m.\u001b[39;49m\u001b[43msignature\u001b[49m\u001b[38;5;241;43m.\u001b[39;49m\u001b[43mname\u001b[49m\u001b[43m)\u001b[49m\u001b[43m,\u001b[49m\n\u001b[1;32m    557\u001b[0m \u001b[43m        \u001b[49m\u001b[43mnum_outputs\u001b[49m\u001b[38;5;241;43m=\u001b[39;49m\u001b[38;5;28;43mself\u001b[39;49m\u001b[38;5;241;43m.\u001b[39;49m\u001b[43m_num_outputs\u001b[49m\u001b[43m,\u001b[49m\n\u001b[1;32m    558\u001b[0m \u001b[43m        \u001b[49m\u001b[43minputs\u001b[49m\u001b[38;5;241;43m=\u001b[39;49m\u001b[43margs\u001b[49m\u001b[43m,\u001b[49m\n\u001b[1;32m    559\u001b[0m \u001b[43m        \u001b[49m\u001b[43mattrs\u001b[49m\u001b[38;5;241;43m=\u001b[39;49m\u001b[43mattrs\u001b[49m\u001b[43m,\u001b[49m\n\u001b[1;32m    560\u001b[0m \u001b[43m        \u001b[49m\u001b[43mctx\u001b[49m\u001b[38;5;241;43m=\u001b[39;49m\u001b[43mctx\u001b[49m\u001b[43m)\u001b[49m\n\u001b[1;32m    561\u001b[0m   \u001b[38;5;28;01melse\u001b[39;00m:\n\u001b[1;32m    562\u001b[0m     outputs \u001b[38;5;241m=\u001b[39m execute\u001b[38;5;241m.\u001b[39mexecute_with_cancellation(\n\u001b[1;32m    563\u001b[0m         \u001b[38;5;28mstr\u001b[39m(\u001b[38;5;28mself\u001b[39m\u001b[38;5;241m.\u001b[39msignature\u001b[38;5;241m.\u001b[39mname),\n\u001b[1;32m    564\u001b[0m         num_outputs\u001b[38;5;241m=\u001b[39m\u001b[38;5;28mself\u001b[39m\u001b[38;5;241m.\u001b[39m_num_outputs,\n\u001b[0;32m   (...)\u001b[0m\n\u001b[1;32m    567\u001b[0m         ctx\u001b[38;5;241m=\u001b[39mctx,\n\u001b[1;32m    568\u001b[0m         cancellation_manager\u001b[38;5;241m=\u001b[39mcancellation_manager)\n",
      "File \u001b[0;32m~/anaconda3/envs/kinaseR/lib/python3.8/site-packages/tensorflow/python/eager/execute.py:59\u001b[0m, in \u001b[0;36mquick_execute\u001b[0;34m(op_name, num_outputs, inputs, attrs, ctx, name)\u001b[0m\n\u001b[1;32m     57\u001b[0m \u001b[38;5;28;01mtry\u001b[39;00m:\n\u001b[1;32m     58\u001b[0m   ctx\u001b[38;5;241m.\u001b[39mensure_initialized()\n\u001b[0;32m---> 59\u001b[0m   tensors \u001b[38;5;241m=\u001b[39m \u001b[43mpywrap_tfe\u001b[49m\u001b[38;5;241;43m.\u001b[39;49m\u001b[43mTFE_Py_Execute\u001b[49m\u001b[43m(\u001b[49m\u001b[43mctx\u001b[49m\u001b[38;5;241;43m.\u001b[39;49m\u001b[43m_handle\u001b[49m\u001b[43m,\u001b[49m\u001b[43m \u001b[49m\u001b[43mdevice_name\u001b[49m\u001b[43m,\u001b[49m\u001b[43m \u001b[49m\u001b[43mop_name\u001b[49m\u001b[43m,\u001b[49m\n\u001b[1;32m     60\u001b[0m \u001b[43m                                      \u001b[49m\u001b[43minputs\u001b[49m\u001b[43m,\u001b[49m\u001b[43m \u001b[49m\u001b[43mattrs\u001b[49m\u001b[43m,\u001b[49m\u001b[43m \u001b[49m\u001b[43mnum_outputs\u001b[49m\u001b[43m)\u001b[49m\n\u001b[1;32m     61\u001b[0m \u001b[38;5;28;01mexcept\u001b[39;00m core\u001b[38;5;241m.\u001b[39m_NotOkStatusException \u001b[38;5;28;01mas\u001b[39;00m e:\n\u001b[1;32m     62\u001b[0m   \u001b[38;5;28;01mif\u001b[39;00m name \u001b[38;5;129;01mis\u001b[39;00m \u001b[38;5;129;01mnot\u001b[39;00m \u001b[38;5;28;01mNone\u001b[39;00m:\n",
      "\u001b[0;31mKeyboardInterrupt\u001b[0m: "
     ]
    }
   ],
   "source": [
    "## Define VAE\n",
    "class VAE(keras.Model):\n",
    "    def __init__(self, encoder, decoder, **kwargs):\n",
    "        super(VAE, self).__init__(**kwargs)\n",
    "        self.encoder = encoder\n",
    "        self.decoder = decoder\n",
    "        self.total_loss_tracker = keras.metrics.Mean(name=\"total_loss\")\n",
    "        self.reconstruction_loss_tracker = keras.metrics.Mean(\n",
    "            name=\"reconstruction_loss\"\n",
    "        )\n",
    "        self.kl_loss_tracker = keras.metrics.Mean(name=\"kl_loss\")\n",
    "\n",
    "    @property\n",
    "    def metrics(self):\n",
    "        return [\n",
    "            self.total_loss_tracker,\n",
    "            self.reconstruction_loss_tracker,\n",
    "            self.kl_loss_tracker,\n",
    "        ]\n",
    "\n",
    "    def train_step(self, data):\n",
    "        with tf.GradientTape() as tape:\n",
    "            z_mean, z_log_var, z = self.encoder(data)\n",
    "            reconstruction = self.decoder(z)\n",
    "            '''\n",
    "            reconstruction_loss = tf.reduce_mean(\n",
    "                tf.reduce_sum(\n",
    "                    keras.losses.binary_crossentropy(data, reconstruction), axis=(1, 2)\n",
    "                )\n",
    "            )\n",
    "            '''\n",
    "            reconstruction_loss = tf.reduce_mean(\n",
    "                tf.reduce_sum(\n",
    "                    tf.square(\n",
    "                        tf.subtract(data, reconstruction)\n",
    "                    )\n",
    "                )\n",
    "            )\n",
    "            kl_loss = -0.5 * (1 + z_log_var - tf.square(z_mean) - tf.exp(z_log_var))\n",
    "            kl_loss = tf.reduce_mean(tf.reduce_sum(kl_loss, axis=1))\n",
    "            total_loss = reconstruction_loss + kl_loss\n",
    "        grads = tape.gradient(total_loss, self.trainable_weights)\n",
    "        self.optimizer.apply_gradients(zip(grads, self.trainable_weights))\n",
    "        self.total_loss_tracker.update_state(total_loss)\n",
    "        self.reconstruction_loss_tracker.update_state(reconstruction_loss)\n",
    "        self.kl_loss_tracker.update_state(kl_loss)\n",
    "        return {\n",
    "            \"loss\": self.total_loss_tracker.result(),\n",
    "            \"reconstruction_loss\": self.reconstruction_loss_tracker.result(),\n",
    "            \"kl_loss\": self.kl_loss_tracker.result(),\n",
    "        }\n",
    "\n",
    "print (trainData.shape)\n",
    "trainData = trainData.reshape(numSamples, numRows, numCols, 1)\n",
    "vae = VAE(encoder, decoder)\n",
    "vae.compile(optimizer=keras.optimizers.Adam())\n",
    "vae.fit(trainData, epochs=50, batch_size=10)"
   ]
  },
  {
   "cell_type": "code",
   "execution_count": 130,
   "id": "11429c10",
   "metadata": {},
   "outputs": [
    {
     "data": {
      "image/png": "[encoded data removed]",
      "text/plain": [
       "<Figure size 864x720 with 2 Axes>"
      ]
     },
     "metadata": {
      "needs_background": "light"
     },
     "output_type": "display_data"
    }
   ],
   "source": [
    "def plot_label_clusters(vae, data, labels=None):\n",
    "    # display a 2D plot of the digit classes in the latent space\n",
    "    z_mean, _, _ = vae.encoder.predict(data)\n",
    "    plt.figure(figsize=(12, 10))\n",
    "    plt.scatter(z_mean[:, 0], z_mean[:, 1], c=labels)\n",
    "    plt.colorbar()\n",
    "    plt.xlabel(\"z[0]\")\n",
    "    plt.ylabel(\"z[1]\")\n",
    "    plt.show()\n",
    "\n",
    "\n",
    "#(x_train, y_train), _ = keras.datasets.mnist.load_data()\n",
    "#x_train = np.expand_dims(x_train, -1).astype(\"float32\") / 255\n",
    "\n",
    "plot_label_clusters(vae, trainData)\n"
   ]
  },
  {
   "cell_type": "code",
   "execution_count": null,
   "id": "225b7e65",
   "metadata": {},
   "outputs": [],
   "source": []
  }
 ],
 "metadata": {
  "kernelspec": {
   "display_name": "kinaseR",
   "language": "python",
   "name": "kinaser"
  },
  "language_info": {
   "codemirror_mode": {
    "name": "ipython",
    "version": 3
   },
   "file_extension": ".py",
   "mimetype": "text/x-python",
   "name": "python",
   "nbconvert_exporter": "python",
   "pygments_lexer": "ipython3",
   "version": "3.8.13"
  }
 },
 "nbformat": 4,
 "nbformat_minor": 5
}
