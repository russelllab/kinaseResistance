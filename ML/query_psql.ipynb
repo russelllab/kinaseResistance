{
 "cells": [
  {
   "cell_type": "code",
   "execution_count": 1,
   "metadata": {},
   "outputs": [],
   "source": [
    "import os, sys, gzip\n",
    "from tqdm import tqdm\n",
    "import psycopg2"
   ]
  },
  {
   "cell_type": "code",
   "execution_count": 2,
   "metadata": {},
   "outputs": [],
   "source": [
    "def connection(db_name='kinase_project2'):\n",
    "    '''Function to connect to postgresql database'''\n",
    "    mydb = psycopg2.connect(\n",
    "                            database = db_name,\n",
    "                            user = \"gurdeep\",\n",
    "                            password = \"hellokitty\",\n",
    "                            host = \"localhost\",\n",
    "                            port = \"5432\")\n",
    "    return mydb"
   ]
  },
  {
   "cell_type": "code",
   "execution_count": 4,
   "metadata": {},
   "outputs": [
    {
     "name": "stdout",
     "output_type": "stream",
     "text": [
      "Connecting to database\n",
      "Tables in the database\n",
      "acc\n",
      "all_homs\n",
      "eukaryotes\n",
      "bpsh\n",
      "bpso\n",
      "burr\n",
      "excl_para\n",
      "iupred\n",
      "mammals\n",
      "arthropods\n",
      "mech_intra\n",
      "orth\n",
      "phi_psi\n",
      "sec\n",
      "spec_para\n",
      "vertebrates\n",
      "metazoa\n",
      "ptms\n",
      "hmm\n",
      "positions\n",
      "kinases\n",
      "mutations\n",
      "ligands\n",
      "alignment\n"
     ]
    }
   ],
   "source": [
    "print (\"Connecting to database\")\n",
    "mydb = connection()\n",
    "mycursor = mydb.cursor()\n",
    "# print all tables in the database\n",
    "mycursor.execute(\"SELECT table_name FROM information_schema.tables WHERE table_schema='public'\")\n",
    "tables = mycursor.fetchall()\n",
    "print (\"Tables in the database\")\n",
    "for table in tables:\n",
    "    print (table[0])\n",
    "    "
   ]
  },
  {
   "cell_type": "code",
   "execution_count": 15,
   "metadata": {},
   "outputs": [
    {
     "name": "stdout",
     "output_type": "stream",
     "text": [
      "(1, 'M', '28', '28', 'r', 'Q92772', 'CDKL2_HUMAN', 'Q92772/M1')\n"
     ]
    },
    {
     "name": "stderr",
     "output_type": "stream",
     "text": [
      "100%|██████████| 467657/467657 [00:07<00:00, 61556.45it/s]\n"
     ]
    }
   ],
   "source": [
    "table = \"positions\"\n",
    "# connect to the table and fetch all the rows and save it in a variable\n",
    "mycursor.execute(f\"SELECT * FROM {table}\")\n",
    "rows = mycursor.fetchall()\n",
    "# print the first row\n",
    "print (rows[0])\n",
    "# extract the header of the table\n",
    "header = [desc[0] for desc in mycursor.description]\n",
    "header = \"\\t\".join(header)\n",
    "line = header + \"\\n\"\n",
    "# save all the rows in a file with gzip\n",
    "with gzip.open(f\"map_kinase2domain.txt.gz\", \"wt\") as f:\n",
    "    f.write(line)\n",
    "    for row in tqdm(rows):\n",
    "        line = \"\\t\".join(map(str, row)) + \"\\n\"\n",
    "        f.write(line)"
   ]
  }
 ],
 "metadata": {
  "kernelspec": {
   "display_name": "activark",
   "language": "python",
   "name": "python3"
  },
  "language_info": {
   "codemirror_mode": {
    "name": "ipython",
    "version": 3
   },
   "file_extension": ".py",
   "mimetype": "text/x-python",
   "name": "python",
   "nbconvert_exporter": "python",
   "pygments_lexer": "ipython3",
   "version": "3.10.11"
  }
 },
 "nbformat": 4,
 "nbformat_minor": 2
}
